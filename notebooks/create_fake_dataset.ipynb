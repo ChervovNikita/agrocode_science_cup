{
 "cells": [
  {
   "cell_type": "code",
   "execution_count": 1,
   "id": "b39cc203-8b12-4252-8179-0a2faa3bb57b",
   "metadata": {},
   "outputs": [],
   "source": [
    "import numpy as np\n",
    "import pandas as pd\n",
    "from os import system"
   ]
  },
  {
   "cell_type": "code",
   "execution_count": 2,
   "id": "ddca3ad5-f739-47be-a2e3-5fae104d8c22",
   "metadata": {},
   "outputs": [
    {
     "name": "stdout",
     "output_type": "stream",
     "text": [
      "/home/chervovn04/Programming/hackathons/2022/agrocode\n"
     ]
    }
   ],
   "source": [
    "%cd ../"
   ]
  },
  {
   "cell_type": "code",
   "execution_count": 3,
   "id": "b90940a5-9a9d-499e-ba00-34a9fb2b5ee2",
   "metadata": {},
   "outputs": [],
   "source": [
    "data = pd.read_csv('data/train.csv')"
   ]
  },
  {
   "cell_type": "code",
   "execution_count": 4,
   "id": "57be3a59-c8a7-4fc5-b6ed-c07ae58652c0",
   "metadata": {},
   "outputs": [
    {
     "data": {
      "text/html": [
       "<div>\n",
       "<style scoped>\n",
       "    .dataframe tbody tr th:only-of-type {\n",
       "        vertical-align: middle;\n",
       "    }\n",
       "\n",
       "    .dataframe tbody tr th {\n",
       "        vertical-align: top;\n",
       "    }\n",
       "\n",
       "    .dataframe thead th {\n",
       "        text-align: right;\n",
       "    }\n",
       "</style>\n",
       "<table border=\"1\" class=\"dataframe\">\n",
       "  <thead>\n",
       "    <tr style=\"text-align: right;\">\n",
       "      <th></th>\n",
       "      <th>idx</th>\n",
       "      <th>item_nm</th>\n",
       "    </tr>\n",
       "  </thead>\n",
       "  <tbody>\n",
       "    <tr>\n",
       "      <th>0</th>\n",
       "      <td>5610</td>\n",
       "      <td>Фильтр топливный КАМАЗ,МАЗ,ЗИЛ дизельный двига...</td>\n",
       "    </tr>\n",
       "    <tr>\n",
       "      <th>1</th>\n",
       "      <td>2979</td>\n",
       "      <td>Коробка отбора мощности 4310-4202010-40</td>\n",
       "    </tr>\n",
       "    <tr>\n",
       "      <th>2</th>\n",
       "      <td>5827</td>\n",
       "      <td>Хомут червячный (металлический, винтовой) (16-27)</td>\n",
       "    </tr>\n",
       "    <tr>\n",
       "      <th>3</th>\n",
       "      <td>3962</td>\n",
       "      <td>Фильтр топливный</td>\n",
       "    </tr>\n",
       "    <tr>\n",
       "      <th>4</th>\n",
       "      <td>6936</td>\n",
       "      <td>Держатель Stoll</td>\n",
       "    </tr>\n",
       "    <tr>\n",
       "      <th>...</th>\n",
       "      <td>...</td>\n",
       "      <td>...</td>\n",
       "    </tr>\n",
       "    <tr>\n",
       "      <th>4871</th>\n",
       "      <td>1965</td>\n",
       "      <td>Шланг заправочный Becool (150 см) F1/4 SAE</td>\n",
       "    </tr>\n",
       "    <tr>\n",
       "      <th>4872</th>\n",
       "      <td>6642</td>\n",
       "      <td>Сцепление 2-ручейковое в сборе</td>\n",
       "    </tr>\n",
       "    <tr>\n",
       "      <th>4873</th>\n",
       "      <td>1165</td>\n",
       "      <td>Ступица</td>\n",
       "    </tr>\n",
       "    <tr>\n",
       "      <th>4874</th>\n",
       "      <td>6773</td>\n",
       "      <td>Вкладыш корпуса подшипника</td>\n",
       "    </tr>\n",
       "    <tr>\n",
       "      <th>4875</th>\n",
       "      <td>2265</td>\n",
       "      <td>Набор уплотнений</td>\n",
       "    </tr>\n",
       "  </tbody>\n",
       "</table>\n",
       "<p>4876 rows × 2 columns</p>\n",
       "</div>"
      ],
      "text/plain": [
       "       idx                                            item_nm\n",
       "0     5610  Фильтр топливный КАМАЗ,МАЗ,ЗИЛ дизельный двига...\n",
       "1     2979           Коробка отбора мощности 4310-4202010-40 \n",
       "2     5827  Хомут червячный (металлический, винтовой) (16-27)\n",
       "3     3962                                   Фильтр топливный\n",
       "4     6936                                    Держатель Stoll\n",
       "...    ...                                                ...\n",
       "4871  1965         Шланг заправочный Becool (150 см) F1/4 SAE\n",
       "4872  6642                     Сцепление 2-ручейковое в сборе\n",
       "4873  1165                                            Ступица\n",
       "4874  6773                         Вкладыш корпуса подшипника\n",
       "4875  2265                                   Набор уплотнений\n",
       "\n",
       "[4876 rows x 2 columns]"
      ]
     },
     "execution_count": 4,
     "metadata": {},
     "output_type": "execute_result"
    }
   ],
   "source": [
    "data = data.sample(frac=1).reset_index(drop=True)\n",
    "data"
   ]
  },
  {
   "cell_type": "code",
   "execution_count": 6,
   "id": "e050c11f-5c98-4506-9d28-dfdfb0a58d3f",
   "metadata": {},
   "outputs": [],
   "source": [
    "test = data.iloc[:500]\n",
    "query = data.iloc[500:600]"
   ]
  },
  {
   "cell_type": "code",
   "execution_count": 7,
   "id": "f2088fff-50d0-470a-8ad2-23993923173b",
   "metadata": {},
   "outputs": [],
   "source": [
    "test.to_csv('data/test.csv')\n",
    "query.to_csv('data/queries.csv')"
   ]
  },
  {
   "cell_type": "code",
   "execution_count": 8,
   "id": "08be261b-da7a-4e8e-b312-9227ba5185de",
   "metadata": {},
   "outputs": [],
   "source": [
    "system('mkdir data/test')\n",
    "system('mkdir data/queries')\n",
    "for idx in list(test.idx):\n",
    "    system(f\"cp data/train/{idx}.png data/test/{idx}.png\")\n",
    "for idx in list(query.idx):\n",
    "    system(f\"cp data/train/{idx}.png data/queries/{idx}.png\")"
   ]
  },
  {
   "cell_type": "code",
   "execution_count": null,
   "id": "43153055-5846-473f-8210-450481c62048",
   "metadata": {},
   "outputs": [],
   "source": []
  }
 ],
 "metadata": {
  "kernelspec": {
   "display_name": "Python 3 (ipykernel)",
   "language": "python",
   "name": "python3"
  },
  "language_info": {
   "codemirror_mode": {
    "name": "ipython",
    "version": 3
   },
   "file_extension": ".py",
   "mimetype": "text/x-python",
   "name": "python",
   "nbconvert_exporter": "python",
   "pygments_lexer": "ipython3",
   "version": "3.10.4"
  }
 },
 "nbformat": 4,
 "nbformat_minor": 5
}
